{
 "cells": [
  {
   "cell_type": "markdown",
   "id": "d3190663",
   "metadata": {},
   "source": [
    "#  Apple Stock Dataset\n",
    "\n",
    "In this notebook, we use two different models to predict the price of Apple Stock, including the Linear Regression and the Random Forest.\n",
    "\n",
    "We will use basic functionalities of the machine learning library `scikit-learn`. \n",
    "Install this by\n",
    "```\n",
    "$pip install scikit-learn\n",
    "```\n",
    "\n",
    "Documentation is found [here](https://scikit-learn.org/stable/).\n",
    "\n",
    "We also need `pandas`, `numpy` and plotting libraries `matplotlib` and `seaborn`.\n",
    "```\n",
    "$pip install numpy pandas matplotlib seaborn\n",
    "```"
   ]
  },
  {
   "cell_type": "code",
   "execution_count": 1,
   "id": "288ac066",
   "metadata": {},
   "outputs": [],
   "source": [
    "import numpy as np\n",
    "import pandas as pd\n",
    "import matplotlib.pyplot as plt\n",
    "import seaborn as sns"
   ]
  },
  {
   "cell_type": "markdown",
   "id": "7c71cb79",
   "metadata": {},
   "source": [
    "# EDA - Exploratory Data Analysis"
   ]
  },
  {
   "cell_type": "markdown",
   "id": "08a1485c",
   "metadata": {},
   "source": [
    "This dataset is given by `aapl_data.csv`. \n",
    "\n",
    "Feature Description in `.csv`:\n",
    "\n",
    "    date - date of open market\n",
    "  \n",
    "    open - price when market opens\n",
    "  \n",
    "    high - highest price during open period\n",
    "  \n",
    "    low - lowest price during open period\n",
    "  \n",
    "    close - price when market is closed\n",
    "\n",
    "    volume - number of shares traded"
   ]
  },
  {
   "cell_type": "markdown",
   "id": "8c72f418",
   "metadata": {},
   "source": [
    "## Import Data"
   ]
  },
  {
   "cell_type": "code",
   "execution_count": 2,
   "id": "7ceee55d",
   "metadata": {},
   "outputs": [],
   "source": [
    "# Import data\n",
    "raw_dataset = pd.read_csv('aapl_data.csv')"
   ]
  },
  {
   "cell_type": "code",
   "execution_count": 3,
   "id": "1cabb4ad",
   "metadata": {},
   "outputs": [
    {
     "data": {
      "text/plain": [
       "(2517, 6)"
      ]
     },
     "execution_count": 3,
     "metadata": {},
     "output_type": "execute_result"
    }
   ],
   "source": [
    "raw_dataset.shape"
   ]
  },
  {
   "cell_type": "code",
   "execution_count": 4,
   "id": "657f2ff7",
   "metadata": {},
   "outputs": [
    {
     "data": {
      "text/html": [
       "<div>\n",
       "<style scoped>\n",
       "    .dataframe tbody tr th:only-of-type {\n",
       "        vertical-align: middle;\n",
       "    }\n",
       "\n",
       "    .dataframe tbody tr th {\n",
       "        vertical-align: top;\n",
       "    }\n",
       "\n",
       "    .dataframe thead th {\n",
       "        text-align: right;\n",
       "    }\n",
       "</style>\n",
       "<table border=\"1\" class=\"dataframe\">\n",
       "  <thead>\n",
       "    <tr style=\"text-align: right;\">\n",
       "      <th></th>\n",
       "      <th>date</th>\n",
       "      <th>open</th>\n",
       "      <th>high</th>\n",
       "      <th>low</th>\n",
       "      <th>close</th>\n",
       "      <th>volume</th>\n",
       "    </tr>\n",
       "  </thead>\n",
       "  <tbody>\n",
       "    <tr>\n",
       "      <th>0</th>\n",
       "      <td>3/1/2013</td>\n",
       "      <td>15.643</td>\n",
       "      <td>15.649</td>\n",
       "      <td>15.356</td>\n",
       "      <td>15.374</td>\n",
       "      <td>552447168</td>\n",
       "    </tr>\n",
       "    <tr>\n",
       "      <th>1</th>\n",
       "      <td>3/4/2013</td>\n",
       "      <td>15.279</td>\n",
       "      <td>15.293</td>\n",
       "      <td>14.964</td>\n",
       "      <td>15.002</td>\n",
       "      <td>582737596</td>\n",
       "    </tr>\n",
       "    <tr>\n",
       "      <th>2</th>\n",
       "      <td>3/5/2013</td>\n",
       "      <td>15.053</td>\n",
       "      <td>15.543</td>\n",
       "      <td>15.027</td>\n",
       "      <td>15.398</td>\n",
       "      <td>638428168</td>\n",
       "    </tr>\n",
       "    <tr>\n",
       "      <th>3</th>\n",
       "      <td>3/6/2013</td>\n",
       "      <td>15.518</td>\n",
       "      <td>15.545</td>\n",
       "      <td>15.158</td>\n",
       "      <td>15.202</td>\n",
       "      <td>460249076</td>\n",
       "    </tr>\n",
       "    <tr>\n",
       "      <th>4</th>\n",
       "      <td>3/7/2013</td>\n",
       "      <td>15.161</td>\n",
       "      <td>15.429</td>\n",
       "      <td>15.038</td>\n",
       "      <td>15.378</td>\n",
       "      <td>468471304</td>\n",
       "    </tr>\n",
       "  </tbody>\n",
       "</table>\n",
       "</div>"
      ],
      "text/plain": [
       "       date    open    high     low   close     volume\n",
       "0  3/1/2013  15.643  15.649  15.356  15.374  552447168\n",
       "1  3/4/2013  15.279  15.293  14.964  15.002  582737596\n",
       "2  3/5/2013  15.053  15.543  15.027  15.398  638428168\n",
       "3  3/6/2013  15.518  15.545  15.158  15.202  460249076\n",
       "4  3/7/2013  15.161  15.429  15.038  15.378  468471304"
      ]
     },
     "execution_count": 4,
     "metadata": {},
     "output_type": "execute_result"
    }
   ],
   "source": [
    "raw_dataset.head()"
   ]
  },
  {
   "cell_type": "markdown",
   "id": "4f0a71f5",
   "metadata": {},
   "source": [
    "## Preprocess Data"
   ]
  },
  {
   "cell_type": "markdown",
   "id": "98e39e27",
   "metadata": {},
   "source": [
    "First of all, check null and na value"
   ]
  },
  {
   "cell_type": "code",
   "execution_count": 5,
   "id": "57628a35",
   "metadata": {},
   "outputs": [
    {
     "data": {
      "text/plain": [
       "date      0\n",
       "open      0\n",
       "high      0\n",
       "low       0\n",
       "close     0\n",
       "volume    0\n",
       "dtype: int64"
      ]
     },
     "execution_count": 5,
     "metadata": {},
     "output_type": "execute_result"
    }
   ],
   "source": [
    "# Check null value\n",
    "raw_dataset.isnull().sum()"
   ]
  },
  {
   "cell_type": "code",
   "execution_count": 6,
   "id": "00a13652",
   "metadata": {},
   "outputs": [
    {
     "data": {
      "text/plain": [
       "date      False\n",
       "open      False\n",
       "high      False\n",
       "low       False\n",
       "close     False\n",
       "volume    False\n",
       "dtype: bool"
      ]
     },
     "execution_count": 6,
     "metadata": {},
     "output_type": "execute_result"
    }
   ],
   "source": [
    "# Check na value\n",
    "raw_dataset.isna().any()"
   ]
  },
  {
   "cell_type": "code",
   "execution_count": 7,
   "id": "081c4771",
   "metadata": {},
   "outputs": [
    {
     "data": {
      "text/plain": [
       "0"
      ]
     },
     "execution_count": 7,
     "metadata": {},
     "output_type": "execute_result"
    }
   ],
   "source": [
    "# Check duplicated value\n",
    "raw_dataset.duplicated().sum()"
   ]
  },
  {
   "cell_type": "markdown",
   "id": "163df7b4",
   "metadata": {},
   "source": [
    "Next, lets sort dataset by date format.\n",
    "\n",
    "This is already the case in our data (in chronological order). Therefore, we do not have to do this additional data preparation step."
   ]
  },
  {
   "cell_type": "code",
   "execution_count": 8,
   "id": "b22ecc9c",
   "metadata": {},
   "outputs": [],
   "source": [
    "#Sorting dataset by date format\n",
    "#df = raw_dataset.sort_values(by='date')"
   ]
  },
  {
   "cell_type": "code",
   "execution_count": 9,
   "id": "bb0fa6f4",
   "metadata": {},
   "outputs": [
    {
     "data": {
      "text/html": [
       "<div>\n",
       "<style scoped>\n",
       "    .dataframe tbody tr th:only-of-type {\n",
       "        vertical-align: middle;\n",
       "    }\n",
       "\n",
       "    .dataframe tbody tr th {\n",
       "        vertical-align: top;\n",
       "    }\n",
       "\n",
       "    .dataframe thead th {\n",
       "        text-align: right;\n",
       "    }\n",
       "</style>\n",
       "<table border=\"1\" class=\"dataframe\">\n",
       "  <thead>\n",
       "    <tr style=\"text-align: right;\">\n",
       "      <th></th>\n",
       "      <th>date</th>\n",
       "      <th>open</th>\n",
       "      <th>high</th>\n",
       "      <th>low</th>\n",
       "      <th>close</th>\n",
       "      <th>volume</th>\n",
       "    </tr>\n",
       "  </thead>\n",
       "  <tbody>\n",
       "    <tr>\n",
       "      <th>0</th>\n",
       "      <td>3/1/2013</td>\n",
       "      <td>15.643</td>\n",
       "      <td>15.649</td>\n",
       "      <td>15.356</td>\n",
       "      <td>15.374</td>\n",
       "      <td>552447168</td>\n",
       "    </tr>\n",
       "    <tr>\n",
       "      <th>1</th>\n",
       "      <td>3/4/2013</td>\n",
       "      <td>15.279</td>\n",
       "      <td>15.293</td>\n",
       "      <td>14.964</td>\n",
       "      <td>15.002</td>\n",
       "      <td>582737596</td>\n",
       "    </tr>\n",
       "    <tr>\n",
       "      <th>2</th>\n",
       "      <td>3/5/2013</td>\n",
       "      <td>15.053</td>\n",
       "      <td>15.543</td>\n",
       "      <td>15.027</td>\n",
       "      <td>15.398</td>\n",
       "      <td>638428168</td>\n",
       "    </tr>\n",
       "    <tr>\n",
       "      <th>3</th>\n",
       "      <td>3/6/2013</td>\n",
       "      <td>15.518</td>\n",
       "      <td>15.545</td>\n",
       "      <td>15.158</td>\n",
       "      <td>15.202</td>\n",
       "      <td>460249076</td>\n",
       "    </tr>\n",
       "    <tr>\n",
       "      <th>4</th>\n",
       "      <td>3/7/2013</td>\n",
       "      <td>15.161</td>\n",
       "      <td>15.429</td>\n",
       "      <td>15.038</td>\n",
       "      <td>15.378</td>\n",
       "      <td>468471304</td>\n",
       "    </tr>\n",
       "  </tbody>\n",
       "</table>\n",
       "</div>"
      ],
      "text/plain": [
       "       date    open    high     low   close     volume\n",
       "0  3/1/2013  15.643  15.649  15.356  15.374  552447168\n",
       "1  3/4/2013  15.279  15.293  14.964  15.002  582737596\n",
       "2  3/5/2013  15.053  15.543  15.027  15.398  638428168\n",
       "3  3/6/2013  15.518  15.545  15.158  15.202  460249076\n",
       "4  3/7/2013  15.161  15.429  15.038  15.378  468471304"
      ]
     },
     "execution_count": 9,
     "metadata": {},
     "output_type": "execute_result"
    }
   ],
   "source": [
    "df = raw_dataset.copy()\n",
    "df.head()"
   ]
  },
  {
   "cell_type": "markdown",
   "id": "26810c02",
   "metadata": {},
   "source": [
    "## Data Visualizations"
   ]
  },
  {
   "cell_type": "markdown",
   "id": "cbc984b8",
   "metadata": {},
   "source": [
    "Since this is a TimeSeries problem, we have to parse `date` column."
   ]
  },
  {
   "cell_type": "code",
   "execution_count": 10,
   "id": "44cdb3ba",
   "metadata": {},
   "outputs": [
    {
     "data": {
      "text/html": [
       "<style type=\"text/css\">\n",
       "#T_e5443_row0_col0, #T_e5443_row1_col0, #T_e5443_row2_col0, #T_e5443_row3_col0, #T_e5443_row4_col0 {\n",
       "  background-color: dodgerblue;\n",
       "}\n",
       "</style>\n",
       "<table id=\"T_e5443\">\n",
       "  <thead>\n",
       "    <tr>\n",
       "      <th class=\"blank level0\" >&nbsp;</th>\n",
       "      <th id=\"T_e5443_level0_col0\" class=\"col_heading level0 col0\" >date</th>\n",
       "      <th id=\"T_e5443_level0_col1\" class=\"col_heading level0 col1\" >open</th>\n",
       "      <th id=\"T_e5443_level0_col2\" class=\"col_heading level0 col2\" >high</th>\n",
       "      <th id=\"T_e5443_level0_col3\" class=\"col_heading level0 col3\" >low</th>\n",
       "      <th id=\"T_e5443_level0_col4\" class=\"col_heading level0 col4\" >close</th>\n",
       "      <th id=\"T_e5443_level0_col5\" class=\"col_heading level0 col5\" >volume</th>\n",
       "    </tr>\n",
       "  </thead>\n",
       "  <tbody>\n",
       "    <tr>\n",
       "      <th id=\"T_e5443_level0_row0\" class=\"row_heading level0 row0\" >0</th>\n",
       "      <td id=\"T_e5443_row0_col0\" class=\"data row0 col0\" >2013-03-01 00:00:00</td>\n",
       "      <td id=\"T_e5443_row0_col1\" class=\"data row0 col1\" >15.643000</td>\n",
       "      <td id=\"T_e5443_row0_col2\" class=\"data row0 col2\" >15.649000</td>\n",
       "      <td id=\"T_e5443_row0_col3\" class=\"data row0 col3\" >15.356000</td>\n",
       "      <td id=\"T_e5443_row0_col4\" class=\"data row0 col4\" >15.374000</td>\n",
       "      <td id=\"T_e5443_row0_col5\" class=\"data row0 col5\" >552447168</td>\n",
       "    </tr>\n",
       "    <tr>\n",
       "      <th id=\"T_e5443_level0_row1\" class=\"row_heading level0 row1\" >1</th>\n",
       "      <td id=\"T_e5443_row1_col0\" class=\"data row1 col0\" >2013-03-04 00:00:00</td>\n",
       "      <td id=\"T_e5443_row1_col1\" class=\"data row1 col1\" >15.279000</td>\n",
       "      <td id=\"T_e5443_row1_col2\" class=\"data row1 col2\" >15.293000</td>\n",
       "      <td id=\"T_e5443_row1_col3\" class=\"data row1 col3\" >14.964000</td>\n",
       "      <td id=\"T_e5443_row1_col4\" class=\"data row1 col4\" >15.002000</td>\n",
       "      <td id=\"T_e5443_row1_col5\" class=\"data row1 col5\" >582737596</td>\n",
       "    </tr>\n",
       "    <tr>\n",
       "      <th id=\"T_e5443_level0_row2\" class=\"row_heading level0 row2\" >2</th>\n",
       "      <td id=\"T_e5443_row2_col0\" class=\"data row2 col0\" >2013-03-05 00:00:00</td>\n",
       "      <td id=\"T_e5443_row2_col1\" class=\"data row2 col1\" >15.053000</td>\n",
       "      <td id=\"T_e5443_row2_col2\" class=\"data row2 col2\" >15.543000</td>\n",
       "      <td id=\"T_e5443_row2_col3\" class=\"data row2 col3\" >15.027000</td>\n",
       "      <td id=\"T_e5443_row2_col4\" class=\"data row2 col4\" >15.398000</td>\n",
       "      <td id=\"T_e5443_row2_col5\" class=\"data row2 col5\" >638428168</td>\n",
       "    </tr>\n",
       "    <tr>\n",
       "      <th id=\"T_e5443_level0_row3\" class=\"row_heading level0 row3\" >3</th>\n",
       "      <td id=\"T_e5443_row3_col0\" class=\"data row3 col0\" >2013-03-06 00:00:00</td>\n",
       "      <td id=\"T_e5443_row3_col1\" class=\"data row3 col1\" >15.518000</td>\n",
       "      <td id=\"T_e5443_row3_col2\" class=\"data row3 col2\" >15.545000</td>\n",
       "      <td id=\"T_e5443_row3_col3\" class=\"data row3 col3\" >15.158000</td>\n",
       "      <td id=\"T_e5443_row3_col4\" class=\"data row3 col4\" >15.202000</td>\n",
       "      <td id=\"T_e5443_row3_col5\" class=\"data row3 col5\" >460249076</td>\n",
       "    </tr>\n",
       "    <tr>\n",
       "      <th id=\"T_e5443_level0_row4\" class=\"row_heading level0 row4\" >4</th>\n",
       "      <td id=\"T_e5443_row4_col0\" class=\"data row4 col0\" >2013-03-07 00:00:00</td>\n",
       "      <td id=\"T_e5443_row4_col1\" class=\"data row4 col1\" >15.161000</td>\n",
       "      <td id=\"T_e5443_row4_col2\" class=\"data row4 col2\" >15.429000</td>\n",
       "      <td id=\"T_e5443_row4_col3\" class=\"data row4 col3\" >15.038000</td>\n",
       "      <td id=\"T_e5443_row4_col4\" class=\"data row4 col4\" >15.378000</td>\n",
       "      <td id=\"T_e5443_row4_col5\" class=\"data row4 col5\" >468471304</td>\n",
       "    </tr>\n",
       "  </tbody>\n",
       "</table>\n"
      ],
      "text/plain": [
       "<pandas.io.formats.style.Styler at 0x7fcf01bb7760>"
      ]
     },
     "execution_count": 10,
     "metadata": {},
     "output_type": "execute_result"
    }
   ],
   "source": [
    "from datetime import datetime, date \n",
    "\n",
    "df['date'] = pd.to_datetime(df['date'], format = '%m/%d/%Y')\n",
    "df.head().style.set_properties(subset=['date'], **{'background-color': 'dodgerblue'})\n"
   ]
  },
  {
   "cell_type": "code",
   "execution_count": 11,
   "id": "90804bcc",
   "metadata": {},
   "outputs": [
    {
     "name": "stdout",
     "output_type": "stream",
     "text": [
      "Starting date:  2013-03-01 00:00:00\n",
      "Ending date:  2023-02-28 00:00:00\n",
      "Duration:  3651 days 00:00:00\n"
     ]
    }
   ],
   "source": [
    "# Get the duration of dataset\n",
    "print(\"Starting date: \", df.iloc[0][0])\n",
    "print(\"Ending date: \", df.iloc[-1][0])\n",
    "print(\"Duration: \", df.iloc[-1][0] - df.iloc[0][0])\n"
   ]
  },
  {
   "cell_type": "markdown",
   "id": "94ddfda2",
   "metadata": {},
   "source": [
    "We will visualize the data to find some patterns. \n",
    "\n",
    "The `seaborn` plotting library has some useful tools to do this."
   ]
  },
  {
   "cell_type": "code",
   "execution_count": 12,
   "id": "69a79261",
   "metadata": {},
   "outputs": [
    {
     "data": {
      "image/png": "[encoded data removed]",
      "text/plain": [
       "<Figure size 1080x1800 with 5 Axes>"
      ]
     },
     "metadata": {
      "needs_background": "light"
     },
     "output_type": "display_data"
    }
   ],
   "source": [
    "f, ax = plt.subplots(nrows=5, ncols=1, figsize=(15, 25))\n",
    "\n",
    "for i, column in enumerate(df.drop('date', axis=1).columns):\n",
    "    sns.lineplot(x=df['date'], \n",
    "                 y=df[column], \n",
    "                 ax=ax[i], \n",
    "                 color='dodgerblue')\n",
    "    ax[i].set_title('Feature: {}'.format(column), fontsize=14)\n",
    "    ax[i].set_ylabel(ylabel=column, fontsize=14)\n",
    "                      \n",
    "    ax[i].set_xlim([date(2013, 3, 1), date(2023, 2, 28)])                "
   ]
  },
  {
   "cell_type": "markdown",
   "id": "9315b917",
   "metadata": {},
   "source": [
    "As we can see above, the behavior of Apple Stock increases drastically in 2020 - 2021. Possible cause is due to the Coronavirus."
   ]
  },
  {
   "cell_type": "markdown",
   "id": "4518541b",
   "metadata": {},
   "source": [
    "# Feature Engineering"
   ]
  },
  {
   "cell_type": "code",
   "execution_count": 13,
   "id": "2f65d8dc",
   "metadata": {},
   "outputs": [],
   "source": [
    "data = raw_dataset.copy()\n",
    "\n",
    "# parse 'date'\n",
    "data['date'] = pd.to_datetime(data['date'])"
   ]
  },
  {
   "cell_type": "code",
   "execution_count": 14,
   "id": "b1f0fd12",
   "metadata": {},
   "outputs": [],
   "source": [
    "# Creat features\n",
    "lags = [1,2,3,4,5,6,7,8,9,10]\n",
    "feats = ['open','close','high','low','volume']\n",
    "\n",
    "all_feats = ['open','close','high','low','volume']\n",
    "\n",
    "for lag in lags:\n",
    "    for feat in feats:\n",
    "        data[feat+'_lag'+str(lag)] = data[feat].shift(lag).bfill()\n",
    "        all_feats.append(feat+'_lag'+str(lag))\n"
   ]
  },
  {
   "cell_type": "code",
   "execution_count": 15,
   "id": "04b2b648",
   "metadata": {},
   "outputs": [
    {
     "data": {
      "text/plain": [
       "(2517, 56)"
      ]
     },
     "execution_count": 15,
     "metadata": {},
     "output_type": "execute_result"
    }
   ],
   "source": [
    "data.shape"
   ]
  },
  {
   "cell_type": "code",
   "execution_count": 16,
   "id": "a945f626",
   "metadata": {
    "scrolled": true
   },
   "outputs": [
    {
     "data": {
      "text/html": [
       "<div>\n",
       "<style scoped>\n",
       "    .dataframe tbody tr th:only-of-type {\n",
       "        vertical-align: middle;\n",
       "    }\n",
       "\n",
       "    .dataframe tbody tr th {\n",
       "        vertical-align: top;\n",
       "    }\n",
       "\n",
       "    .dataframe thead th {\n",
       "        text-align: right;\n",
       "    }\n",
       "</style>\n",
       "<table border=\"1\" class=\"dataframe\">\n",
       "  <thead>\n",
       "    <tr style=\"text-align: right;\">\n",
       "      <th></th>\n",
       "      <th>date</th>\n",
       "      <th>open</th>\n",
       "      <th>high</th>\n",
       "      <th>low</th>\n",
       "      <th>close</th>\n",
       "      <th>volume</th>\n",
       "      <th>open_lag1</th>\n",
       "      <th>close_lag1</th>\n",
       "      <th>high_lag1</th>\n",
       "      <th>low_lag1</th>\n",
       "      <th>...</th>\n",
       "      <th>open_lag9</th>\n",
       "      <th>close_lag9</th>\n",
       "      <th>high_lag9</th>\n",
       "      <th>low_lag9</th>\n",
       "      <th>volume_lag9</th>\n",
       "      <th>open_lag10</th>\n",
       "      <th>close_lag10</th>\n",
       "      <th>high_lag10</th>\n",
       "      <th>low_lag10</th>\n",
       "      <th>volume_lag10</th>\n",
       "    </tr>\n",
       "  </thead>\n",
       "  <tbody>\n",
       "    <tr>\n",
       "      <th>0</th>\n",
       "      <td>2013-03-01</td>\n",
       "      <td>15.643</td>\n",
       "      <td>15.649</td>\n",
       "      <td>15.356</td>\n",
       "      <td>15.374</td>\n",
       "      <td>552447168</td>\n",
       "      <td>15.643</td>\n",
       "      <td>15.374</td>\n",
       "      <td>15.649</td>\n",
       "      <td>15.356</td>\n",
       "      <td>...</td>\n",
       "      <td>15.643</td>\n",
       "      <td>15.374</td>\n",
       "      <td>15.649</td>\n",
       "      <td>15.356</td>\n",
       "      <td>552447168.0</td>\n",
       "      <td>15.643</td>\n",
       "      <td>15.374</td>\n",
       "      <td>15.649</td>\n",
       "      <td>15.356</td>\n",
       "      <td>552447168.0</td>\n",
       "    </tr>\n",
       "    <tr>\n",
       "      <th>1</th>\n",
       "      <td>2013-03-04</td>\n",
       "      <td>15.279</td>\n",
       "      <td>15.293</td>\n",
       "      <td>14.964</td>\n",
       "      <td>15.002</td>\n",
       "      <td>582737596</td>\n",
       "      <td>15.643</td>\n",
       "      <td>15.374</td>\n",
       "      <td>15.649</td>\n",
       "      <td>15.356</td>\n",
       "      <td>...</td>\n",
       "      <td>15.643</td>\n",
       "      <td>15.374</td>\n",
       "      <td>15.649</td>\n",
       "      <td>15.356</td>\n",
       "      <td>552447168.0</td>\n",
       "      <td>15.643</td>\n",
       "      <td>15.374</td>\n",
       "      <td>15.649</td>\n",
       "      <td>15.356</td>\n",
       "      <td>552447168.0</td>\n",
       "    </tr>\n",
       "    <tr>\n",
       "      <th>2</th>\n",
       "      <td>2013-03-05</td>\n",
       "      <td>15.053</td>\n",
       "      <td>15.543</td>\n",
       "      <td>15.027</td>\n",
       "      <td>15.398</td>\n",
       "      <td>638428168</td>\n",
       "      <td>15.279</td>\n",
       "      <td>15.002</td>\n",
       "      <td>15.293</td>\n",
       "      <td>14.964</td>\n",
       "      <td>...</td>\n",
       "      <td>15.643</td>\n",
       "      <td>15.374</td>\n",
       "      <td>15.649</td>\n",
       "      <td>15.356</td>\n",
       "      <td>552447168.0</td>\n",
       "      <td>15.643</td>\n",
       "      <td>15.374</td>\n",
       "      <td>15.649</td>\n",
       "      <td>15.356</td>\n",
       "      <td>552447168.0</td>\n",
       "    </tr>\n",
       "    <tr>\n",
       "      <th>3</th>\n",
       "      <td>2013-03-06</td>\n",
       "      <td>15.518</td>\n",
       "      <td>15.545</td>\n",
       "      <td>15.158</td>\n",
       "      <td>15.202</td>\n",
       "      <td>460249076</td>\n",
       "      <td>15.053</td>\n",
       "      <td>15.398</td>\n",
       "      <td>15.543</td>\n",
       "      <td>15.027</td>\n",
       "      <td>...</td>\n",
       "      <td>15.643</td>\n",
       "      <td>15.374</td>\n",
       "      <td>15.649</td>\n",
       "      <td>15.356</td>\n",
       "      <td>552447168.0</td>\n",
       "      <td>15.643</td>\n",
       "      <td>15.374</td>\n",
       "      <td>15.649</td>\n",
       "      <td>15.356</td>\n",
       "      <td>552447168.0</td>\n",
       "    </tr>\n",
       "    <tr>\n",
       "      <th>4</th>\n",
       "      <td>2013-03-07</td>\n",
       "      <td>15.161</td>\n",
       "      <td>15.429</td>\n",
       "      <td>15.038</td>\n",
       "      <td>15.378</td>\n",
       "      <td>468471304</td>\n",
       "      <td>15.518</td>\n",
       "      <td>15.202</td>\n",
       "      <td>15.545</td>\n",
       "      <td>15.158</td>\n",
       "      <td>...</td>\n",
       "      <td>15.643</td>\n",
       "      <td>15.374</td>\n",
       "      <td>15.649</td>\n",
       "      <td>15.356</td>\n",
       "      <td>552447168.0</td>\n",
       "      <td>15.643</td>\n",
       "      <td>15.374</td>\n",
       "      <td>15.649</td>\n",
       "      <td>15.356</td>\n",
       "      <td>552447168.0</td>\n",
       "    </tr>\n",
       "  </tbody>\n",
       "</table>\n",
       "<p>5 rows × 56 columns</p>\n",
       "</div>"
      ],
      "text/plain": [
       "        date    open    high     low   close     volume  open_lag1  \\\n",
       "0 2013-03-01  15.643  15.649  15.356  15.374  552447168     15.643   \n",
       "1 2013-03-04  15.279  15.293  14.964  15.002  582737596     15.643   \n",
       "2 2013-03-05  15.053  15.543  15.027  15.398  638428168     15.279   \n",
       "3 2013-03-06  15.518  15.545  15.158  15.202  460249076     15.053   \n",
       "4 2013-03-07  15.161  15.429  15.038  15.378  468471304     15.518   \n",
       "\n",
       "   close_lag1  high_lag1  low_lag1  ...  open_lag9  close_lag9  high_lag9  \\\n",
       "0      15.374     15.649    15.356  ...     15.643      15.374     15.649   \n",
       "1      15.374     15.649    15.356  ...     15.643      15.374     15.649   \n",
       "2      15.002     15.293    14.964  ...     15.643      15.374     15.649   \n",
       "3      15.398     15.543    15.027  ...     15.643      15.374     15.649   \n",
       "4      15.202     15.545    15.158  ...     15.643      15.374     15.649   \n",
       "\n",
       "   low_lag9  volume_lag9  open_lag10  close_lag10  high_lag10  low_lag10  \\\n",
       "0    15.356  552447168.0      15.643       15.374      15.649     15.356   \n",
       "1    15.356  552447168.0      15.643       15.374      15.649     15.356   \n",
       "2    15.356  552447168.0      15.643       15.374      15.649     15.356   \n",
       "3    15.356  552447168.0      15.643       15.374      15.649     15.356   \n",
       "4    15.356  552447168.0      15.643       15.374      15.649     15.356   \n",
       "\n",
       "   volume_lag10  \n",
       "0   552447168.0  \n",
       "1   552447168.0  \n",
       "2   552447168.0  \n",
       "3   552447168.0  \n",
       "4   552447168.0  \n",
       "\n",
       "[5 rows x 56 columns]"
      ]
     },
     "execution_count": 16,
     "metadata": {},
     "output_type": "execute_result"
    }
   ],
   "source": [
    "data.head()"
   ]
  },
  {
   "cell_type": "code",
   "execution_count": null,
   "id": "d589ab74",
   "metadata": {},
   "outputs": [],
   "source": []
  },
  {
   "cell_type": "code",
   "execution_count": 17,
   "id": "f2c1dff0",
   "metadata": {
    "scrolled": true
   },
   "outputs": [
    {
     "data": {
      "text/html": [
       "<div>\n",
       "<style scoped>\n",
       "    .dataframe tbody tr th:only-of-type {\n",
       "        vertical-align: middle;\n",
       "    }\n",
       "\n",
       "    .dataframe tbody tr th {\n",
       "        vertical-align: top;\n",
       "    }\n",
       "\n",
       "    .dataframe thead th {\n",
       "        text-align: right;\n",
       "    }\n",
       "</style>\n",
       "<table border=\"1\" class=\"dataframe\">\n",
       "  <thead>\n",
       "    <tr style=\"text-align: right;\">\n",
       "      <th></th>\n",
       "      <th>date</th>\n",
       "      <th>open</th>\n",
       "      <th>high</th>\n",
       "      <th>low</th>\n",
       "      <th>close</th>\n",
       "      <th>volume</th>\n",
       "      <th>open_lag1</th>\n",
       "      <th>close_lag1</th>\n",
       "      <th>high_lag1</th>\n",
       "      <th>low_lag1</th>\n",
       "      <th>...</th>\n",
       "      <th>app_rollmea2_1</th>\n",
       "      <th>app_rollmea4_1</th>\n",
       "      <th>app_rollmea6_1</th>\n",
       "      <th>app_rollmea8_1</th>\n",
       "      <th>app_rollmea10_1</th>\n",
       "      <th>open_target</th>\n",
       "      <th>close_target</th>\n",
       "      <th>high_target</th>\n",
       "      <th>low_target</th>\n",
       "      <th>day_count</th>\n",
       "    </tr>\n",
       "  </thead>\n",
       "  <tbody>\n",
       "    <tr>\n",
       "      <th>0</th>\n",
       "      <td>2013-03-01</td>\n",
       "      <td>15.643</td>\n",
       "      <td>15.649</td>\n",
       "      <td>15.356</td>\n",
       "      <td>15.374</td>\n",
       "      <td>552447168</td>\n",
       "      <td>15.643</td>\n",
       "      <td>15.374</td>\n",
       "      <td>15.649</td>\n",
       "      <td>15.356</td>\n",
       "      <td>...</td>\n",
       "      <td>5.524472e+08</td>\n",
       "      <td>5.524472e+08</td>\n",
       "      <td>5.524472e+08</td>\n",
       "      <td>5.524472e+08</td>\n",
       "      <td>5.524472e+08</td>\n",
       "      <td>15.279</td>\n",
       "      <td>15.002</td>\n",
       "      <td>15.293</td>\n",
       "      <td>14.964</td>\n",
       "      <td>0</td>\n",
       "    </tr>\n",
       "    <tr>\n",
       "      <th>1</th>\n",
       "      <td>2013-03-04</td>\n",
       "      <td>15.279</td>\n",
       "      <td>15.293</td>\n",
       "      <td>14.964</td>\n",
       "      <td>15.002</td>\n",
       "      <td>582737596</td>\n",
       "      <td>15.643</td>\n",
       "      <td>15.374</td>\n",
       "      <td>15.649</td>\n",
       "      <td>15.356</td>\n",
       "      <td>...</td>\n",
       "      <td>1.104894e+09</td>\n",
       "      <td>1.104894e+09</td>\n",
       "      <td>1.104894e+09</td>\n",
       "      <td>1.104894e+09</td>\n",
       "      <td>1.104894e+09</td>\n",
       "      <td>15.053</td>\n",
       "      <td>15.398</td>\n",
       "      <td>15.543</td>\n",
       "      <td>15.027</td>\n",
       "      <td>1</td>\n",
       "    </tr>\n",
       "    <tr>\n",
       "      <th>2</th>\n",
       "      <td>2013-03-05</td>\n",
       "      <td>15.053</td>\n",
       "      <td>15.543</td>\n",
       "      <td>15.027</td>\n",
       "      <td>15.398</td>\n",
       "      <td>638428168</td>\n",
       "      <td>15.279</td>\n",
       "      <td>15.002</td>\n",
       "      <td>15.293</td>\n",
       "      <td>14.964</td>\n",
       "      <td>...</td>\n",
       "      <td>1.135185e+09</td>\n",
       "      <td>1.687632e+09</td>\n",
       "      <td>1.687632e+09</td>\n",
       "      <td>1.687632e+09</td>\n",
       "      <td>1.687632e+09</td>\n",
       "      <td>15.518</td>\n",
       "      <td>15.202</td>\n",
       "      <td>15.545</td>\n",
       "      <td>15.158</td>\n",
       "      <td>2</td>\n",
       "    </tr>\n",
       "    <tr>\n",
       "      <th>3</th>\n",
       "      <td>2013-03-06</td>\n",
       "      <td>15.518</td>\n",
       "      <td>15.545</td>\n",
       "      <td>15.158</td>\n",
       "      <td>15.202</td>\n",
       "      <td>460249076</td>\n",
       "      <td>15.053</td>\n",
       "      <td>15.398</td>\n",
       "      <td>15.543</td>\n",
       "      <td>15.027</td>\n",
       "      <td>...</td>\n",
       "      <td>1.221166e+09</td>\n",
       "      <td>2.326060e+09</td>\n",
       "      <td>2.326060e+09</td>\n",
       "      <td>2.326060e+09</td>\n",
       "      <td>2.326060e+09</td>\n",
       "      <td>15.161</td>\n",
       "      <td>15.378</td>\n",
       "      <td>15.429</td>\n",
       "      <td>15.038</td>\n",
       "      <td>3</td>\n",
       "    </tr>\n",
       "    <tr>\n",
       "      <th>4</th>\n",
       "      <td>2013-03-07</td>\n",
       "      <td>15.161</td>\n",
       "      <td>15.429</td>\n",
       "      <td>15.038</td>\n",
       "      <td>15.378</td>\n",
       "      <td>468471304</td>\n",
       "      <td>15.518</td>\n",
       "      <td>15.202</td>\n",
       "      <td>15.545</td>\n",
       "      <td>15.158</td>\n",
       "      <td>...</td>\n",
       "      <td>1.098677e+09</td>\n",
       "      <td>2.233862e+09</td>\n",
       "      <td>2.786309e+09</td>\n",
       "      <td>2.786309e+09</td>\n",
       "      <td>2.786309e+09</td>\n",
       "      <td>15.350</td>\n",
       "      <td>15.419</td>\n",
       "      <td>15.551</td>\n",
       "      <td>15.308</td>\n",
       "      <td>4</td>\n",
       "    </tr>\n",
       "  </tbody>\n",
       "</table>\n",
       "<p>5 rows × 66 columns</p>\n",
       "</div>"
      ],
      "text/plain": [
       "        date    open    high     low   close     volume  open_lag1  \\\n",
       "0 2013-03-01  15.643  15.649  15.356  15.374  552447168     15.643   \n",
       "1 2013-03-04  15.279  15.293  14.964  15.002  582737596     15.643   \n",
       "2 2013-03-05  15.053  15.543  15.027  15.398  638428168     15.279   \n",
       "3 2013-03-06  15.518  15.545  15.158  15.202  460249076     15.053   \n",
       "4 2013-03-07  15.161  15.429  15.038  15.378  468471304     15.518   \n",
       "\n",
       "   close_lag1  high_lag1  low_lag1  ...  app_rollmea2_1  app_rollmea4_1  \\\n",
       "0      15.374     15.649    15.356  ...    5.524472e+08    5.524472e+08   \n",
       "1      15.374     15.649    15.356  ...    1.104894e+09    1.104894e+09   \n",
       "2      15.002     15.293    14.964  ...    1.135185e+09    1.687632e+09   \n",
       "3      15.398     15.543    15.027  ...    1.221166e+09    2.326060e+09   \n",
       "4      15.202     15.545    15.158  ...    1.098677e+09    2.233862e+09   \n",
       "\n",
       "   app_rollmea6_1  app_rollmea8_1  app_rollmea10_1  open_target  close_target  \\\n",
       "0    5.524472e+08    5.524472e+08     5.524472e+08       15.279        15.002   \n",
       "1    1.104894e+09    1.104894e+09     1.104894e+09       15.053        15.398   \n",
       "2    1.687632e+09    1.687632e+09     1.687632e+09       15.518        15.202   \n",
       "3    2.326060e+09    2.326060e+09     2.326060e+09       15.161        15.378   \n",
       "4    2.786309e+09    2.786309e+09     2.786309e+09       15.350        15.419   \n",
       "\n",
       "   high_target  low_target  day_count  \n",
       "0       15.293      14.964          0  \n",
       "1       15.543      15.027          1  \n",
       "2       15.545      15.158          2  \n",
       "3       15.429      15.038          3  \n",
       "4       15.551      15.308          4  \n",
       "\n",
       "[5 rows x 66 columns]"
      ]
     },
     "execution_count": 17,
     "metadata": {},
     "output_type": "execute_result"
    }
   ],
   "source": [
    "# Moving window\n",
    "lag = 1\n",
    "for window in [2, 4, 6, 8, 10]:\n",
    "    data[f'app_rollmea{window}_{lag}'] = data[feat+'_lag'+str(lag)].transform(lambda s: s.rolling(window, min_periods=1).sum())        \n",
    "    all_feats.append(f'app_rollmea{window}_{lag}')\n",
    "    \n",
    "for price in ['open','close','high','low']:\n",
    "    data[price+'_target'] = data[price].shift(-1)\n",
    "    \n",
    "data['day_count'] = data.index.values.astype(int)\n",
    "\n",
    "all_feats.append('day_count')\n",
    "\n",
    "data.head()"
   ]
  },
  {
   "cell_type": "code",
   "execution_count": 18,
   "id": "540ffc89",
   "metadata": {},
   "outputs": [
    {
     "name": "stdout",
     "output_type": "stream",
     "text": [
      "['open', 'close', 'high', 'low', 'volume', 'open_lag1', 'close_lag1', 'high_lag1', 'low_lag1', 'volume_lag1', 'open_lag2', 'close_lag2', 'high_lag2', 'low_lag2', 'volume_lag2', 'open_lag3', 'close_lag3', 'high_lag3', 'low_lag3', 'volume_lag3', 'open_lag4', 'close_lag4', 'high_lag4', 'low_lag4', 'volume_lag4', 'open_lag5', 'close_lag5', 'high_lag5', 'low_lag5', 'volume_lag5', 'open_lag6', 'close_lag6', 'high_lag6', 'low_lag6', 'volume_lag6', 'open_lag7', 'close_lag7', 'high_lag7', 'low_lag7', 'volume_lag7', 'open_lag8', 'close_lag8', 'high_lag8', 'low_lag8', 'volume_lag8', 'open_lag9', 'close_lag9', 'high_lag9', 'low_lag9', 'volume_lag9', 'open_lag10', 'close_lag10', 'high_lag10', 'low_lag10', 'volume_lag10', 'app_rollmea2_1', 'app_rollmea4_1', 'app_rollmea6_1', 'app_rollmea8_1', 'app_rollmea10_1', 'day_count']\n"
     ]
    }
   ],
   "source": [
    "print(all_feats)"
   ]
  },
  {
   "cell_type": "markdown",
   "id": "a2f510c5",
   "metadata": {},
   "source": [
    "# Modeling\n",
    "\n",
    "We will use Linear Regression and Random Forest to predict the price. \n",
    "\n",
    "First, define error functions."
   ]
  },
  {
   "cell_type": "code",
   "execution_count": 19,
   "id": "3ac4893a",
   "metadata": {},
   "outputs": [],
   "source": [
    "# Define 1day_error, 3day_avg_error and 3day_exp_error\n",
    "\n",
    "def one_day_error(y_true, y_pred):\n",
    "    return np.abs(y_true - y_pred)/y_true\n",
    "\n",
    "def three_day_avg_error(y_true, y_pred):\n",
    "    return np.mean(np.abs(y_true - y_pred)/y_true)\n",
    "\n",
    "def three_day_exp_error(y_true, y_pred):\n",
    "    return (one_day_error(y_pred[0],y_true[0]) + 2*one_day_error(y_pred[1],y_true[1]) + 3*one_day_error(y_pred[2],y_true[2]))/6\n",
    "    \n",
    "def evaluate_result(y_true,y_pred):\n",
    "    ans = {}\n",
    "    ans['1st d err'] = one_day_error(y_true[0],y_pred[0])\n",
    "    ans['2nd d err'] = one_day_error(y_true[1],y_pred[1])\n",
    "    ans['3rd d err'] = one_day_error(y_true[2],y_pred[2])\n",
    "    ans['avg err'] = three_day_avg_error(y_true,y_pred)\n",
    "    ans['exp err'] = three_day_exp_error(y_true,y_pred)\n",
    "    return ans"
   ]
  },
  {
   "cell_type": "markdown",
   "id": "3884d985",
   "metadata": {},
   "source": [
    "## Linear Regression"
   ]
  },
  {
   "cell_type": "markdown",
   "id": "47fb87df",
   "metadata": {},
   "source": [
    "For readers' convenience, see [Linear Regression Tutorial](https://www.kaggle.com/code/sudhirnl7/linear-regression-tutorial)."
   ]
  },
  {
   "cell_type": "code",
   "execution_count": 20,
   "id": "c3ea83be",
   "metadata": {},
   "outputs": [
    {
     "name": "stdout",
     "output_type": "stream",
     "text": [
      "Evaluate for  open\n",
      "Evaluate for  close\n",
      "Evaluate for  high\n",
      "Evaluate for  low\n"
     ]
    }
   ],
   "source": [
    "from sklearn.linear_model import LinearRegression\n",
    "\n",
    "# Error for LinearRegression\n",
    "LR_error = pd.DataFrame()\n",
    "y_lr_pred = pd.DataFrame()\n",
    "y_test = pd.DataFrame()\n",
    "\n",
    "# Usd LR to predict the price of Apple Stock\n",
    "for target in ['open_target','close_target','high_target','low_target']:\n",
    "    X = data[all_feats].iloc[:-1,:]\n",
    "    Y = data[target].iloc[:-1]\n",
    "    \n",
    "    # train test split\n",
    "    X_train,Y_trian = X.iloc[:-3,:],Y.iloc[:-3].values\n",
    "    X_test,Y_test = X.iloc[-3:,:],Y.iloc[-3:].values\n",
    "    \n",
    "    y_test[target] = Y_test\n",
    "        \n",
    "    # Fit model   \n",
    "    regressor = LinearRegression()\n",
    "    regressor.fit(X_train,Y_trian)\n",
    "    \n",
    "    # Predict value\n",
    "    y_lr_pred[target] = regressor.predict(X_test)\n",
    "    \n",
    "    print('Evaluate for ',target.replace('_target',''))\n",
    "    \n",
    "    eval_result = evaluate_result(Y_test,y_lr_pred[target])\n",
    "    \n",
    "    eval_result = pd.DataFrame(index=eval_result.keys(),\n",
    "                               data=eval_result.values(),\n",
    "                               columns=[target.replace('_target','')])\n",
    "    LR_error = pd.concat([LR_error,eval_result],axis=1)\n",
    "    \n",
    "    \n",
    "\n"
   ]
  },
  {
   "cell_type": "code",
   "execution_count": 21,
   "id": "51e79a04",
   "metadata": {},
   "outputs": [
    {
     "data": {
      "text/html": [
       "<div>\n",
       "<style scoped>\n",
       "    .dataframe tbody tr th:only-of-type {\n",
       "        vertical-align: middle;\n",
       "    }\n",
       "\n",
       "    .dataframe tbody tr th {\n",
       "        vertical-align: top;\n",
       "    }\n",
       "\n",
       "    .dataframe thead th {\n",
       "        text-align: right;\n",
       "    }\n",
       "</style>\n",
       "<table border=\"1\" class=\"dataframe\">\n",
       "  <thead>\n",
       "    <tr style=\"text-align: right;\">\n",
       "      <th></th>\n",
       "      <th>open</th>\n",
       "      <th>close</th>\n",
       "      <th>high</th>\n",
       "      <th>low</th>\n",
       "    </tr>\n",
       "  </thead>\n",
       "  <tbody>\n",
       "    <tr>\n",
       "      <th>0</th>\n",
       "      <td>148.865175</td>\n",
       "      <td>148.678433</td>\n",
       "      <td>150.885240</td>\n",
       "      <td>147.574233</td>\n",
       "    </tr>\n",
       "    <tr>\n",
       "      <th>1</th>\n",
       "      <td>146.424239</td>\n",
       "      <td>146.005157</td>\n",
       "      <td>147.960878</td>\n",
       "      <td>145.058759</td>\n",
       "    </tr>\n",
       "    <tr>\n",
       "      <th>2</th>\n",
       "      <td>147.274597</td>\n",
       "      <td>147.875754</td>\n",
       "      <td>149.247343</td>\n",
       "      <td>146.383375</td>\n",
       "    </tr>\n",
       "  </tbody>\n",
       "</table>\n",
       "</div>"
      ],
      "text/plain": [
       "         open       close        high         low\n",
       "0  148.865175  148.678433  150.885240  147.574233\n",
       "1  146.424239  146.005157  147.960878  145.058759\n",
       "2  147.274597  147.875754  149.247343  146.383375"
      ]
     },
     "execution_count": 21,
     "metadata": {},
     "output_type": "execute_result"
    }
   ],
   "source": [
    "y_lr_pred.rename(columns={x: x.replace('_target', '') for x in y_lr_pred.columns}, inplace=True)\n",
    "y_lr_pred"
   ]
  },
  {
   "cell_type": "code",
   "execution_count": 22,
   "id": "c58848e3",
   "metadata": {},
   "outputs": [
    {
     "data": {
      "text/html": [
       "<div>\n",
       "<style scoped>\n",
       "    .dataframe tbody tr th:only-of-type {\n",
       "        vertical-align: middle;\n",
       "    }\n",
       "\n",
       "    .dataframe tbody tr th {\n",
       "        vertical-align: top;\n",
       "    }\n",
       "\n",
       "    .dataframe thead th {\n",
       "        text-align: right;\n",
       "    }\n",
       "</style>\n",
       "<table border=\"1\" class=\"dataframe\">\n",
       "  <thead>\n",
       "    <tr style=\"text-align: right;\">\n",
       "      <th></th>\n",
       "      <th>open</th>\n",
       "      <th>close</th>\n",
       "      <th>high</th>\n",
       "      <th>low</th>\n",
       "    </tr>\n",
       "  </thead>\n",
       "  <tbody>\n",
       "    <tr>\n",
       "      <th>1st d err</th>\n",
       "      <td>0.011931</td>\n",
       "      <td>0.013417</td>\n",
       "      <td>0.025105</td>\n",
       "      <td>0.012725</td>\n",
       "    </tr>\n",
       "    <tr>\n",
       "      <th>2nd d err</th>\n",
       "      <td>0.008705</td>\n",
       "      <td>0.012945</td>\n",
       "      <td>0.008106</td>\n",
       "      <td>0.016217</td>\n",
       "    </tr>\n",
       "    <tr>\n",
       "      <th>3rd d err</th>\n",
       "      <td>0.001527</td>\n",
       "      <td>0.003160</td>\n",
       "      <td>0.001123</td>\n",
       "      <td>0.003042</td>\n",
       "    </tr>\n",
       "    <tr>\n",
       "      <th>avg err</th>\n",
       "      <td>0.007388</td>\n",
       "      <td>0.009841</td>\n",
       "      <td>0.011444</td>\n",
       "      <td>0.010661</td>\n",
       "    </tr>\n",
       "    <tr>\n",
       "      <th>exp err</th>\n",
       "      <td>0.005655</td>\n",
       "      <td>0.008153</td>\n",
       "      <td>0.007366</td>\n",
       "      <td>0.009115</td>\n",
       "    </tr>\n",
       "  </tbody>\n",
       "</table>\n",
       "</div>"
      ],
      "text/plain": [
       "               open     close      high       low\n",
       "1st d err  0.011931  0.013417  0.025105  0.012725\n",
       "2nd d err  0.008705  0.012945  0.008106  0.016217\n",
       "3rd d err  0.001527  0.003160  0.001123  0.003042\n",
       "avg err    0.007388  0.009841  0.011444  0.010661\n",
       "exp err    0.005655  0.008153  0.007366  0.009115"
      ]
     },
     "execution_count": 22,
     "metadata": {},
     "output_type": "execute_result"
    }
   ],
   "source": [
    "LR_error.head()"
   ]
  },
  {
   "cell_type": "code",
   "execution_count": 23,
   "id": "b15f60ee",
   "metadata": {},
   "outputs": [
    {
     "data": {
      "text/html": [
       "<div>\n",
       "<style scoped>\n",
       "    .dataframe tbody tr th:only-of-type {\n",
       "        vertical-align: middle;\n",
       "    }\n",
       "\n",
       "    .dataframe tbody tr th {\n",
       "        vertical-align: top;\n",
       "    }\n",
       "\n",
       "    .dataframe thead th {\n",
       "        text-align: right;\n",
       "    }\n",
       "</style>\n",
       "<table border=\"1\" class=\"dataframe\">\n",
       "  <thead>\n",
       "    <tr style=\"text-align: right;\">\n",
       "      <th></th>\n",
       "      <th>open</th>\n",
       "      <th>close</th>\n",
       "      <th>high</th>\n",
       "      <th>low</th>\n",
       "      <th>model</th>\n",
       "    </tr>\n",
       "  </thead>\n",
       "  <tbody>\n",
       "    <tr>\n",
       "      <th>1st d err</th>\n",
       "      <td>0.011931</td>\n",
       "      <td>0.013417</td>\n",
       "      <td>0.025105</td>\n",
       "      <td>0.012725</td>\n",
       "      <td>LinearRegression</td>\n",
       "    </tr>\n",
       "    <tr>\n",
       "      <th>2nd d err</th>\n",
       "      <td>0.008705</td>\n",
       "      <td>0.012945</td>\n",
       "      <td>0.008106</td>\n",
       "      <td>0.016217</td>\n",
       "      <td>LinearRegression</td>\n",
       "    </tr>\n",
       "    <tr>\n",
       "      <th>3rd d err</th>\n",
       "      <td>0.001527</td>\n",
       "      <td>0.003160</td>\n",
       "      <td>0.001123</td>\n",
       "      <td>0.003042</td>\n",
       "      <td>LinearRegression</td>\n",
       "    </tr>\n",
       "    <tr>\n",
       "      <th>avg err</th>\n",
       "      <td>0.007388</td>\n",
       "      <td>0.009841</td>\n",
       "      <td>0.011444</td>\n",
       "      <td>0.010661</td>\n",
       "      <td>LinearRegression</td>\n",
       "    </tr>\n",
       "    <tr>\n",
       "      <th>exp err</th>\n",
       "      <td>0.005655</td>\n",
       "      <td>0.008153</td>\n",
       "      <td>0.007366</td>\n",
       "      <td>0.009115</td>\n",
       "      <td>LinearRegression</td>\n",
       "    </tr>\n",
       "  </tbody>\n",
       "</table>\n",
       "</div>"
      ],
      "text/plain": [
       "               open     close      high       low             model\n",
       "1st d err  0.011931  0.013417  0.025105  0.012725  LinearRegression\n",
       "2nd d err  0.008705  0.012945  0.008106  0.016217  LinearRegression\n",
       "3rd d err  0.001527  0.003160  0.001123  0.003042  LinearRegression\n",
       "avg err    0.007388  0.009841  0.011444  0.010661  LinearRegression\n",
       "exp err    0.005655  0.008153  0.007366  0.009115  LinearRegression"
      ]
     },
     "execution_count": 23,
     "metadata": {},
     "output_type": "execute_result"
    }
   ],
   "source": [
    "LR_error['model'] = ['LinearRegression']*5\n",
    "LR_error.head()"
   ]
  },
  {
   "cell_type": "markdown",
   "id": "8c5006c2",
   "metadata": {},
   "source": [
    "##  Model Validation\n",
    " \n",
    "The common assumption for Linear Regression model are following:\n",
    "\n",
    "1. Linear Relationship: In linear regression the relationship between the dependent and independent variable to be linear. This can be checked by scatter ploting Actual value Vs Predicted value\n",
    "\n",
    "\n",
    "2. The residual error plot should be normally distributed.\n",
    "\n",
    "\n",
    "3. The mean of residual error should be 0 or close to 0 as much as possible\n",
    "\n",
    "\n",
    "4. The linear regression require all variables to be multivariate normal. This assumption can best checked with Q-Q plot.\n",
    "\n",
    "\n",
    "5. Linear regession assumes that there is little or no Multicollinearity in the data. Multicollinearity occurs when the independent variables are too highly correlated with each other. The variance inflation factor VIF* identifies correlation between independent variables and strength of that correlation.  VIF=11−R2, If VIF >1 & VIF <5 moderate correlation, VIF < 5 critical level of multicollinearity.\n",
    " \n",
    " \n",
    "6. Homoscedasticity: The data are homoscedastic meaning the residuals are equal across the regression line. We can look at residual Vs fitted value scatter plot. If heteroscedastic plot would exhibit a funnel shape pattern.\n",
    "\n",
    "\n",
    "`In our case, the test set is too small. Therefore, we omit the analysis.` "
   ]
  },
  {
   "cell_type": "code",
   "execution_count": 36,
   "id": "081434ec",
   "metadata": {},
   "outputs": [
    {
     "data": {
      "text/plain": [
       "\"\\ny_test.rename(columns={x: x.replace('_target', '') for x in y_test.columns}, inplace=True)\\ny_test\\n\""
      ]
     },
     "execution_count": 36,
     "metadata": {},
     "output_type": "execute_result"
    }
   ],
   "source": [
    "'''\n",
    "y_test.rename(columns={x: x.replace('_target', '') for x in y_test.columns}, inplace=True)\n",
    "y_test\n",
    "'''"
   ]
  },
  {
   "cell_type": "code",
   "execution_count": 37,
   "id": "a0c7ea63",
   "metadata": {},
   "outputs": [],
   "source": [
    "# y_test_low = y_test['low']\n",
    "# y_pred_low = y_lr_pred['low']"
   ]
  },
  {
   "cell_type": "code",
   "execution_count": 38,
   "id": "7dd76635",
   "metadata": {},
   "outputs": [],
   "source": [
    "# # Check for Linearity\n",
    "# f, ax = plt.subplots(nrows=4, ncols=1, figsize=(15, 25))\n",
    "# for i, column in enumerate(y_test.columns):\n",
    "#     sns.scatterplot(x=y_test[column],\n",
    "#                     y=y_lr_pred[column],\n",
    "#                     ax=ax[i],\n",
    "#                     color='r')\n",
    "# #     sns.lineplot(x=df['date'], \n",
    "# #                  y=df[column], \n",
    "# #                  ax=ax[i], \n",
    "# #                  color='dodgerblue')\n",
    "#     ax[i].set_title('Check for Linearity:\\n Actual Vs Predicted value')\n",
    "\n",
    "   \n",
    "\n",
    "    "
   ]
  },
  {
   "cell_type": "code",
   "execution_count": 39,
   "id": "08bef764",
   "metadata": {
    "scrolled": false
   },
   "outputs": [],
   "source": [
    "# # Check for Residual normality & mean\n",
    "# f, ax = plt.subplots(nrows=4, ncols=1, figsize=(15, 25))\n",
    "# for i, column in enumerate(y_test.columns):\n",
    "#     sns.distplot((y_test[column] - y_lr_pred[column]),ax=ax[i],color='b')\n",
    "#     ax[i].axvline((y_test[column] - y_lr_pred[column]).mean(),color='k',linestyle='--')\n",
    "#     ax[i].set_title('Check for Residual normality & mean: \\n Residual eror');"
   ]
  },
  {
   "cell_type": "markdown",
   "id": "eabe5840",
   "metadata": {},
   "source": [
    "..."
   ]
  },
  {
   "cell_type": "code",
   "execution_count": null,
   "id": "4d768eb7",
   "metadata": {},
   "outputs": [],
   "source": []
  },
  {
   "cell_type": "markdown",
   "id": "2eefe904",
   "metadata": {},
   "source": [
    "## Random Forest Regression\n",
    "\n",
    "For readers' convinence, see [Random Forest Regression](https://www.kaggle.com/code/michaelarthur224/netflix-stock-prediction#Random-Forest-Model)."
   ]
  },
  {
   "cell_type": "code",
   "execution_count": 40,
   "id": "9f57b2f4",
   "metadata": {},
   "outputs": [
    {
     "name": "stdout",
     "output_type": "stream",
     "text": [
      "Evaluate for  open\n",
      "Evaluate for  close\n",
      "Evaluate for  high\n",
      "Evaluate for  low\n"
     ]
    }
   ],
   "source": [
    "from sklearn.ensemble import RandomForestRegressor\n",
    "\n",
    "RF_error = pd.DataFrame()\n",
    "y_rf_pred = pd.DataFrame()\n",
    "\n",
    "for target in ['open_target','close_target','high_target','low_target']:\n",
    "    X = data[all_feats].iloc[:-1,:]\n",
    "    Y = data[target].iloc[:-1]\n",
    "    \n",
    "    # train test split\n",
    "    X_train,Y_trian = X.iloc[:-3,:],Y.iloc[:-3].values\n",
    "    X_test,Y_test = X.iloc[-3:,:],Y.iloc[-3:].values\n",
    "        \n",
    "    # Fit model   \n",
    "    rf = RandomForestRegressor(n_estimators=100)\n",
    "    rf.fit(X_train,Y_trian)\n",
    "    \n",
    "    # Predict value\n",
    "    y_rf_pred[target] = rf.predict(X_test)\n",
    "    \n",
    "    print('Evaluate for ',target.replace('_target',''))\n",
    "    \n",
    "    eval_result = evaluate_result(Y_test,y_rf_pred[target])\n",
    "    \n",
    "    eval_result = pd.DataFrame(index=eval_result.keys(),\n",
    "                               data=eval_result.values(),\n",
    "                               columns=[target.replace('_target','')])\n",
    "    RF_error = pd.concat([RF_error,eval_result],axis=1)    \n",
    "\n"
   ]
  },
  {
   "cell_type": "code",
   "execution_count": 41,
   "id": "5650b3e4",
   "metadata": {},
   "outputs": [
    {
     "data": {
      "text/html": [
       "<div>\n",
       "<style scoped>\n",
       "    .dataframe tbody tr th:only-of-type {\n",
       "        vertical-align: middle;\n",
       "    }\n",
       "\n",
       "    .dataframe tbody tr th {\n",
       "        vertical-align: top;\n",
       "    }\n",
       "\n",
       "    .dataframe thead th {\n",
       "        text-align: right;\n",
       "    }\n",
       "</style>\n",
       "<table border=\"1\" class=\"dataframe\">\n",
       "  <thead>\n",
       "    <tr style=\"text-align: right;\">\n",
       "      <th></th>\n",
       "      <th>open</th>\n",
       "      <th>close</th>\n",
       "      <th>high</th>\n",
       "      <th>low</th>\n",
       "    </tr>\n",
       "  </thead>\n",
       "  <tbody>\n",
       "    <tr>\n",
       "      <th>0</th>\n",
       "      <td>149.33310</td>\n",
       "      <td>149.2507</td>\n",
       "      <td>150.24519</td>\n",
       "      <td>147.87762</td>\n",
       "    </tr>\n",
       "    <tr>\n",
       "      <th>1</th>\n",
       "      <td>146.38450</td>\n",
       "      <td>146.2036</td>\n",
       "      <td>147.36778</td>\n",
       "      <td>144.67097</td>\n",
       "    </tr>\n",
       "    <tr>\n",
       "      <th>2</th>\n",
       "      <td>147.92665</td>\n",
       "      <td>147.9623</td>\n",
       "      <td>149.89366</td>\n",
       "      <td>146.85320</td>\n",
       "    </tr>\n",
       "  </tbody>\n",
       "</table>\n",
       "</div>"
      ],
      "text/plain": [
       "        open     close       high        low\n",
       "0  149.33310  149.2507  150.24519  147.87762\n",
       "1  146.38450  146.2036  147.36778  144.67097\n",
       "2  147.92665  147.9623  149.89366  146.85320"
      ]
     },
     "execution_count": 41,
     "metadata": {},
     "output_type": "execute_result"
    }
   ],
   "source": [
    "y_rf_pred.rename(columns={x: x.replace('_target', '') for x in y_rf_pred.columns}, inplace=True)\n",
    "y_rf_pred"
   ]
  },
  {
   "cell_type": "code",
   "execution_count": 42,
   "id": "2262fccd",
   "metadata": {},
   "outputs": [
    {
     "data": {
      "text/html": [
       "<div>\n",
       "<style scoped>\n",
       "    .dataframe tbody tr th:only-of-type {\n",
       "        vertical-align: middle;\n",
       "    }\n",
       "\n",
       "    .dataframe tbody tr th {\n",
       "        vertical-align: top;\n",
       "    }\n",
       "\n",
       "    .dataframe thead th {\n",
       "        text-align: right;\n",
       "    }\n",
       "</style>\n",
       "<table border=\"1\" class=\"dataframe\">\n",
       "  <thead>\n",
       "    <tr style=\"text-align: right;\">\n",
       "      <th></th>\n",
       "      <th>open</th>\n",
       "      <th>close</th>\n",
       "      <th>high</th>\n",
       "      <th>low</th>\n",
       "      <th>model</th>\n",
       "    </tr>\n",
       "  </thead>\n",
       "  <tbody>\n",
       "    <tr>\n",
       "      <th>1st d err</th>\n",
       "      <td>0.015112</td>\n",
       "      <td>0.017318</td>\n",
       "      <td>0.020757</td>\n",
       "      <td>0.014807</td>\n",
       "      <td>RandomForestRegression</td>\n",
       "    </tr>\n",
       "    <tr>\n",
       "      <th>2nd d err</th>\n",
       "      <td>0.008974</td>\n",
       "      <td>0.011604</td>\n",
       "      <td>0.012082</td>\n",
       "      <td>0.018847</td>\n",
       "      <td>RandomForestRegression</td>\n",
       "    </tr>\n",
       "    <tr>\n",
       "      <th>3rd d err</th>\n",
       "      <td>0.005962</td>\n",
       "      <td>0.003747</td>\n",
       "      <td>0.005458</td>\n",
       "      <td>0.000158</td>\n",
       "      <td>RandomForestRegression</td>\n",
       "    </tr>\n",
       "    <tr>\n",
       "      <th>avg err</th>\n",
       "      <td>0.010016</td>\n",
       "      <td>0.010889</td>\n",
       "      <td>0.012765</td>\n",
       "      <td>0.011271</td>\n",
       "      <td>RandomForestRegression</td>\n",
       "    </tr>\n",
       "    <tr>\n",
       "      <th>exp err</th>\n",
       "      <td>0.008463</td>\n",
       "      <td>0.008617</td>\n",
       "      <td>0.010180</td>\n",
       "      <td>0.008914</td>\n",
       "      <td>RandomForestRegression</td>\n",
       "    </tr>\n",
       "  </tbody>\n",
       "</table>\n",
       "</div>"
      ],
      "text/plain": [
       "               open     close      high       low                   model\n",
       "1st d err  0.015112  0.017318  0.020757  0.014807  RandomForestRegression\n",
       "2nd d err  0.008974  0.011604  0.012082  0.018847  RandomForestRegression\n",
       "3rd d err  0.005962  0.003747  0.005458  0.000158  RandomForestRegression\n",
       "avg err    0.010016  0.010889  0.012765  0.011271  RandomForestRegression\n",
       "exp err    0.008463  0.008617  0.010180  0.008914  RandomForestRegression"
      ]
     },
     "execution_count": 42,
     "metadata": {},
     "output_type": "execute_result"
    }
   ],
   "source": [
    "RF_error['model'] = ['RandomForestRegression']*5\n",
    "RF_error.head()"
   ]
  },
  {
   "cell_type": "code",
   "execution_count": 43,
   "id": "83235c89",
   "metadata": {},
   "outputs": [
    {
     "data": {
      "text/html": [
       "<div>\n",
       "<style scoped>\n",
       "    .dataframe tbody tr th:only-of-type {\n",
       "        vertical-align: middle;\n",
       "    }\n",
       "\n",
       "    .dataframe tbody tr th {\n",
       "        vertical-align: top;\n",
       "    }\n",
       "\n",
       "    .dataframe thead th {\n",
       "        text-align: right;\n",
       "    }\n",
       "</style>\n",
       "<table border=\"1\" class=\"dataframe\">\n",
       "  <thead>\n",
       "    <tr style=\"text-align: right;\">\n",
       "      <th></th>\n",
       "      <th>open</th>\n",
       "      <th>close</th>\n",
       "      <th>high</th>\n",
       "      <th>low</th>\n",
       "      <th>model</th>\n",
       "    </tr>\n",
       "  </thead>\n",
       "  <tbody>\n",
       "    <tr>\n",
       "      <th>1st d err</th>\n",
       "      <td>0.011931</td>\n",
       "      <td>0.013417</td>\n",
       "      <td>0.025105</td>\n",
       "      <td>0.012725</td>\n",
       "      <td>LinearRegression</td>\n",
       "    </tr>\n",
       "    <tr>\n",
       "      <th>2nd d err</th>\n",
       "      <td>0.008705</td>\n",
       "      <td>0.012945</td>\n",
       "      <td>0.008106</td>\n",
       "      <td>0.016217</td>\n",
       "      <td>LinearRegression</td>\n",
       "    </tr>\n",
       "    <tr>\n",
       "      <th>3rd d err</th>\n",
       "      <td>0.001527</td>\n",
       "      <td>0.003160</td>\n",
       "      <td>0.001123</td>\n",
       "      <td>0.003042</td>\n",
       "      <td>LinearRegression</td>\n",
       "    </tr>\n",
       "    <tr>\n",
       "      <th>avg err</th>\n",
       "      <td>0.007388</td>\n",
       "      <td>0.009841</td>\n",
       "      <td>0.011444</td>\n",
       "      <td>0.010661</td>\n",
       "      <td>LinearRegression</td>\n",
       "    </tr>\n",
       "    <tr>\n",
       "      <th>exp err</th>\n",
       "      <td>0.005655</td>\n",
       "      <td>0.008153</td>\n",
       "      <td>0.007366</td>\n",
       "      <td>0.009115</td>\n",
       "      <td>LinearRegression</td>\n",
       "    </tr>\n",
       "    <tr>\n",
       "      <th>1st d err</th>\n",
       "      <td>0.015112</td>\n",
       "      <td>0.017318</td>\n",
       "      <td>0.020757</td>\n",
       "      <td>0.014807</td>\n",
       "      <td>RandomForestRegression</td>\n",
       "    </tr>\n",
       "    <tr>\n",
       "      <th>2nd d err</th>\n",
       "      <td>0.008974</td>\n",
       "      <td>0.011604</td>\n",
       "      <td>0.012082</td>\n",
       "      <td>0.018847</td>\n",
       "      <td>RandomForestRegression</td>\n",
       "    </tr>\n",
       "    <tr>\n",
       "      <th>3rd d err</th>\n",
       "      <td>0.005962</td>\n",
       "      <td>0.003747</td>\n",
       "      <td>0.005458</td>\n",
       "      <td>0.000158</td>\n",
       "      <td>RandomForestRegression</td>\n",
       "    </tr>\n",
       "    <tr>\n",
       "      <th>avg err</th>\n",
       "      <td>0.010016</td>\n",
       "      <td>0.010889</td>\n",
       "      <td>0.012765</td>\n",
       "      <td>0.011271</td>\n",
       "      <td>RandomForestRegression</td>\n",
       "    </tr>\n",
       "    <tr>\n",
       "      <th>exp err</th>\n",
       "      <td>0.008463</td>\n",
       "      <td>0.008617</td>\n",
       "      <td>0.010180</td>\n",
       "      <td>0.008914</td>\n",
       "      <td>RandomForestRegression</td>\n",
       "    </tr>\n",
       "  </tbody>\n",
       "</table>\n",
       "</div>"
      ],
      "text/plain": [
       "               open     close      high       low                   model\n",
       "1st d err  0.011931  0.013417  0.025105  0.012725        LinearRegression\n",
       "2nd d err  0.008705  0.012945  0.008106  0.016217        LinearRegression\n",
       "3rd d err  0.001527  0.003160  0.001123  0.003042        LinearRegression\n",
       "avg err    0.007388  0.009841  0.011444  0.010661        LinearRegression\n",
       "exp err    0.005655  0.008153  0.007366  0.009115        LinearRegression\n",
       "1st d err  0.015112  0.017318  0.020757  0.014807  RandomForestRegression\n",
       "2nd d err  0.008974  0.011604  0.012082  0.018847  RandomForestRegression\n",
       "3rd d err  0.005962  0.003747  0.005458  0.000158  RandomForestRegression\n",
       "avg err    0.010016  0.010889  0.012765  0.011271  RandomForestRegression\n",
       "exp err    0.008463  0.008617  0.010180  0.008914  RandomForestRegression"
      ]
     },
     "execution_count": 43,
     "metadata": {},
     "output_type": "execute_result"
    }
   ],
   "source": [
    "eval_results = pd.concat([LR_error,RF_error],axis=0)\n",
    "eval_results\n"
   ]
  },
  {
   "cell_type": "markdown",
   "id": "22a194e6",
   "metadata": {},
   "source": [
    "# Postprocessing"
   ]
  },
  {
   "cell_type": "code",
   "execution_count": 44,
   "id": "68a61e60",
   "metadata": {},
   "outputs": [
    {
     "data": {
      "text/html": [
       "<div>\n",
       "<style scoped>\n",
       "    .dataframe tbody tr th:only-of-type {\n",
       "        vertical-align: middle;\n",
       "    }\n",
       "\n",
       "    .dataframe tbody tr th {\n",
       "        vertical-align: top;\n",
       "    }\n",
       "\n",
       "    .dataframe thead th {\n",
       "        text-align: right;\n",
       "    }\n",
       "</style>\n",
       "<table border=\"1\" class=\"dataframe\">\n",
       "  <thead>\n",
       "    <tr style=\"text-align: right;\">\n",
       "      <th></th>\n",
       "      <th>index</th>\n",
       "      <th>open</th>\n",
       "      <th>close</th>\n",
       "      <th>high</th>\n",
       "      <th>low</th>\n",
       "      <th>model</th>\n",
       "    </tr>\n",
       "  </thead>\n",
       "  <tbody>\n",
       "    <tr>\n",
       "      <th>0</th>\n",
       "      <td>1st d err</td>\n",
       "      <td>0.011931</td>\n",
       "      <td>0.013417</td>\n",
       "      <td>0.025105</td>\n",
       "      <td>0.012725</td>\n",
       "      <td>LinearRegression</td>\n",
       "    </tr>\n",
       "    <tr>\n",
       "      <th>1</th>\n",
       "      <td>2nd d err</td>\n",
       "      <td>0.008705</td>\n",
       "      <td>0.012945</td>\n",
       "      <td>0.008106</td>\n",
       "      <td>0.016217</td>\n",
       "      <td>LinearRegression</td>\n",
       "    </tr>\n",
       "    <tr>\n",
       "      <th>2</th>\n",
       "      <td>3rd d err</td>\n",
       "      <td>0.001527</td>\n",
       "      <td>0.003160</td>\n",
       "      <td>0.001123</td>\n",
       "      <td>0.003042</td>\n",
       "      <td>LinearRegression</td>\n",
       "    </tr>\n",
       "    <tr>\n",
       "      <th>3</th>\n",
       "      <td>avg err</td>\n",
       "      <td>0.007388</td>\n",
       "      <td>0.009841</td>\n",
       "      <td>0.011444</td>\n",
       "      <td>0.010661</td>\n",
       "      <td>LinearRegression</td>\n",
       "    </tr>\n",
       "    <tr>\n",
       "      <th>4</th>\n",
       "      <td>exp err</td>\n",
       "      <td>0.005655</td>\n",
       "      <td>0.008153</td>\n",
       "      <td>0.007366</td>\n",
       "      <td>0.009115</td>\n",
       "      <td>LinearRegression</td>\n",
       "    </tr>\n",
       "    <tr>\n",
       "      <th>5</th>\n",
       "      <td>1st d err</td>\n",
       "      <td>0.015112</td>\n",
       "      <td>0.017318</td>\n",
       "      <td>0.020757</td>\n",
       "      <td>0.014807</td>\n",
       "      <td>RandomForestRegression</td>\n",
       "    </tr>\n",
       "    <tr>\n",
       "      <th>6</th>\n",
       "      <td>2nd d err</td>\n",
       "      <td>0.008974</td>\n",
       "      <td>0.011604</td>\n",
       "      <td>0.012082</td>\n",
       "      <td>0.018847</td>\n",
       "      <td>RandomForestRegression</td>\n",
       "    </tr>\n",
       "    <tr>\n",
       "      <th>7</th>\n",
       "      <td>3rd d err</td>\n",
       "      <td>0.005962</td>\n",
       "      <td>0.003747</td>\n",
       "      <td>0.005458</td>\n",
       "      <td>0.000158</td>\n",
       "      <td>RandomForestRegression</td>\n",
       "    </tr>\n",
       "    <tr>\n",
       "      <th>8</th>\n",
       "      <td>avg err</td>\n",
       "      <td>0.010016</td>\n",
       "      <td>0.010889</td>\n",
       "      <td>0.012765</td>\n",
       "      <td>0.011271</td>\n",
       "      <td>RandomForestRegression</td>\n",
       "    </tr>\n",
       "    <tr>\n",
       "      <th>9</th>\n",
       "      <td>exp err</td>\n",
       "      <td>0.008463</td>\n",
       "      <td>0.008617</td>\n",
       "      <td>0.010180</td>\n",
       "      <td>0.008914</td>\n",
       "      <td>RandomForestRegression</td>\n",
       "    </tr>\n",
       "  </tbody>\n",
       "</table>\n",
       "</div>"
      ],
      "text/plain": [
       "       index      open     close      high       low                   model\n",
       "0  1st d err  0.011931  0.013417  0.025105  0.012725        LinearRegression\n",
       "1  2nd d err  0.008705  0.012945  0.008106  0.016217        LinearRegression\n",
       "2  3rd d err  0.001527  0.003160  0.001123  0.003042        LinearRegression\n",
       "3    avg err  0.007388  0.009841  0.011444  0.010661        LinearRegression\n",
       "4    exp err  0.005655  0.008153  0.007366  0.009115        LinearRegression\n",
       "5  1st d err  0.015112  0.017318  0.020757  0.014807  RandomForestRegression\n",
       "6  2nd d err  0.008974  0.011604  0.012082  0.018847  RandomForestRegression\n",
       "7  3rd d err  0.005962  0.003747  0.005458  0.000158  RandomForestRegression\n",
       "8    avg err  0.010016  0.010889  0.012765  0.011271  RandomForestRegression\n",
       "9    exp err  0.008463  0.008617  0.010180  0.008914  RandomForestRegression"
      ]
     },
     "execution_count": 44,
     "metadata": {},
     "output_type": "execute_result"
    }
   ],
   "source": [
    "df = eval_results.reset_index()\n",
    "df"
   ]
  },
  {
   "cell_type": "markdown",
   "id": "b44361c9",
   "metadata": {},
   "source": [
    "Plot graphs"
   ]
  },
  {
   "cell_type": "code",
   "execution_count": 45,
   "id": "b45c8a11",
   "metadata": {},
   "outputs": [
    {
     "data": {
      "image/png": "[encoded data removed]",
      "text/plain": [
       "<Figure size 522.25x360 with 1 Axes>"
      ]
     },
     "metadata": {
      "needs_background": "light"
     },
     "output_type": "display_data"
    },
    {
     "data": {
      "image/png": "[encoded data removed]",
      "text/plain": [
       "<Figure size 522.25x360 with 1 Axes>"
      ]
     },
     "metadata": {
      "needs_background": "light"
     },
     "output_type": "display_data"
    },
    {
     "data": {
      "image/png": "[encoded data removed]",
      "text/plain": [
       "<Figure size 522.25x360 with 1 Axes>"
      ]
     },
     "metadata": {
      "needs_background": "light"
     },
     "output_type": "display_data"
    },
    {
     "data": {
      "image/png": "[encoded data removed]",
      "text/plain": [
       "<Figure size 522.25x360 with 1 Axes>"
      ]
     },
     "metadata": {
      "needs_background": "light"
     },
     "output_type": "display_data"
    }
   ],
   "source": [
    "for price in ['open','close','high','low']:\n",
    "    sns.catplot(data=df,x='index',y=price,hue='model',kind='bar')\n",
    "    plt.xlabel('')\n",
    "    plt.title('Evaluation Results for Predicting '+price.capitalize()+' Price')\n",
    "    plt.show()"
   ]
  },
  {
   "cell_type": "code",
   "execution_count": null,
   "id": "21b7d7e2",
   "metadata": {},
   "outputs": [],
   "source": []
  },
  {
   "cell_type": "code",
   "execution_count": null,
   "id": "ee78a4f6",
   "metadata": {},
   "outputs": [],
   "source": []
  },
  {
   "cell_type": "code",
   "execution_count": null,
   "id": "59d2b7d1",
   "metadata": {},
   "outputs": [],
   "source": []
  }
 ],
 "metadata": {
  "kernelspec": {
   "display_name": "Python 3 (ipykernel)",
   "language": "python",
   "name": "python3"
  },
  "language_info": {
   "codemirror_mode": {
    "name": "ipython",
    "version": 3
   },
   "file_extension": ".py",
   "mimetype": "text/x-python",
   "name": "python",
   "nbconvert_exporter": "python",
   "pygments_lexer": "ipython3",
   "version": "3.10.10"
  },
  "toc": {
   "base_numbering": 1,
   "nav_menu": {},
   "number_sections": true,
   "sideBar": true,
   "skip_h1_title": false,
   "title_cell": "Table of Contents",
   "title_sidebar": "Contents",
   "toc_cell": false,
   "toc_position": {},
   "toc_section_display": true,
   "toc_window_display": false
  }
 },
 "nbformat": 4,
 "nbformat_minor": 5
}
